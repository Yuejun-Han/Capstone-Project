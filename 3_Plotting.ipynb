{
  "nbformat": 4,
  "nbformat_minor": 0,
  "metadata": {
    "colab": {
      "name": "3_Plotting.ipynb",
      "provenance": [],
      "toc_visible": true,
      "include_colab_link": true
    },
    "kernelspec": {
      "name": "python3",
      "display_name": "Python 3"
    },
    "language_info": {
      "name": "python"
    }
  },
  "cells": [
    {
      "cell_type": "markdown",
      "metadata": {
        "id": "view-in-github",
        "colab_type": "text"
      },
      "source": [
        "<a href=\"https://colab.research.google.com/github/Yuejun-Han/Capstone-Project/blob/main/3_Plotting.ipynb\" target=\"_parent\"><img src=\"https://colab.research.google.com/assets/colab-badge.svg\" alt=\"Open In Colab\"/></a>"
      ]
    },
    {
      "cell_type": "markdown",
      "metadata": {
        "tags": [],
        "id": "pN2aNsBWd2Ph"
      },
      "source": [
        "## Introduction\n",
        "\n",
        "This notebook demonstrates the analysis part of this project. The goal is to compare the two model's prediction with each other, and with the true observed value that is avaliable from Geuvadis dataset.  "
      ]
    },
    {
      "cell_type": "markdown",
      "metadata": {
        "id": "si-w2NPretDg",
        "tags": []
      },
      "source": [
        "### Major Steps\n",
        "\n",
        "- Set up the environment\n",
        "- Import true observations from Geuvadis\n",
        "- Import predictions made by Predixcan\n",
        "- Make Plots and tables \n"
      ]
    },
    {
      "cell_type": "markdown",
      "source": [
        "## Set up environment"
      ],
      "metadata": {
        "id": "sU07n3jp5aYH"
      }
    },
    {
      "cell_type": "code",
      "source": [
        "import pandas as pd # for manipulating dataframes\n",
        "import numpy as np # for numerical computations\n",
        "import matplotlib.pyplot as plt # for plotting\n",
        "import matplotlib as mpl # for plotting\n",
        "import seaborn as sns # for plotting\n",
        "import os, sys # functions for interacting with the operating system\n",
        "import random  \n",
        "\n",
        "%matplotlib inline\n",
        "%config InlineBackend.figure_format = 'retina'"
      ],
      "metadata": {
        "id": "bx1fGh0q4Rc2"
      },
      "execution_count": null,
      "outputs": []
    },
    {
      "cell_type": "code",
      "execution_count": null,
      "metadata": {
        "colab": {
          "base_uri": "https://localhost:8080/"
        },
        "id": "kTzF3SHvWYFY",
        "outputId": "e4a33fdb-acf5-482a-ad2f-6b33c61f7af1"
      },
      "outputs": [
        {
          "output_type": "stream",
          "name": "stdout",
          "text": [
            "Drive already mounted at /content/drive; to attempt to forcibly remount, call drive.mount(\"/content/drive\", force_remount=True).\n"
          ]
        }
      ],
      "source": [
        "from google.colab import drive\n",
        "drive.mount('/content/drive')"
      ]
    },
    {
      "cell_type": "markdown",
      "metadata": {
        "id": "NIqBU-oM5Z7A"
      },
      "source": [
        "## Read in the GEUVADIS true observations and Predixcan predictions."
      ]
    },
    {
      "cell_type": "code",
      "execution_count": null,
      "metadata": {
        "id": "YtI6un2DrmgY"
      },
      "outputs": [],
      "source": [
        "geuvadis_gene_expression = pd.read_table('https://uchicago.box.com/shared/static/5vwc7pjw9qmtv7298c4rc7bcuicoyemt.gz', sep='\\t', index_col='gene_name',\n",
        "                                         dtype={'gene_id': str, 'gene_name':str, 'TargetID':str, 'Chr':str})"
      ]
    },
    {
      "cell_type": "code",
      "execution_count": null,
      "metadata": {
        "id": "GYt9r9rXDsl3"
      },
      "outputs": [],
      "source": [
        "predixcan_gene_expression = pd.read_table('https://uchicago.box.com/shared/static/4k68u7x7rxjpoljfdva6qipjxwzd3l0g.txt', sep=' ', index_col='gene_name')"
      ]
    },
    {
      "cell_type": "markdown",
      "source": [
        "## Get ready to make plots"
      ],
      "metadata": {
        "id": "79GdOssC50Vi"
      }
    },
    {
      "cell_type": "markdown",
      "source": [
        "Read in the result we generated from the previous script. Becuase its index is the individuals that we are interested, we can use them as the key to obtain the desired information from Geuvadis dataset and PredixCan database."
      ],
      "metadata": {
        "id": "cw3EptHu6D6S"
      }
    },
    {
      "cell_type": "code",
      "execution_count": null,
      "metadata": {
        "id": "nokzAGzvud-f"
      },
      "outputs": [],
      "source": [
        "path1 = \"/content/drive/MyDrive/Capstone_Project_2022/results/CEU_Haplotype_Sum.csv\"\n",
        "Enformer_CEU = pd.read_csv(path1, index_col= 'Unnamed: 0')"
      ]
    },
    {
      "cell_type": "code",
      "source": [
        "path2 = \"/content/drive/MyDrive/Capstone_Project_2022/results/YRI_Haplotype_Sum.csv\"\n",
        "Enformer_YRI = pd.read_csv(path2, index_col= 'Unnamed: 0')"
      ],
      "metadata": {
        "id": "RgPdR7J18e2d"
      },
      "execution_count": null,
      "outputs": []
    },
    {
      "cell_type": "markdown",
      "source": [
        "The index of these two csv files are the list of the selected individuals, and the columns are the list of the target genes."
      ],
      "metadata": {
        "id": "rjmFF1nB9eqX"
      }
    },
    {
      "cell_type": "code",
      "source": [
        "YRI_individual = Enformer_YRI.index.values.tolist()\n",
        "CEU_individual = Enformer_CEU.index.values.tolist()\n",
        "list_of_genes = Enformer_CEU.columns.tolist()"
      ],
      "metadata": {
        "id": "qqREJY9_8z6s"
      },
      "execution_count": null,
      "outputs": []
    },
    {
      "cell_type": "markdown",
      "source": [
        "Use the individual and the gene as reference to locate the true observation from Geuvadis dataset, and the prediction made by another deep learning method 'PrediXcan'."
      ],
      "metadata": {
        "id": "RWr3Eu6vDCwI"
      }
    },
    {
      "cell_type": "code",
      "execution_count": null,
      "metadata": {
        "id": "VERwgfQ2Y9e3"
      },
      "outputs": [],
      "source": [
        "GEU_YRI = pd.DataFrame()\n",
        "predixcan_YRI = pd.DataFrame()\n",
        "for gene in range(len(list_of_genes)):\n",
        "  for individual in range(len(YRI_individual)):\n",
        "    GEU_YRI.at[YRI_individual[individual],list_of_genes[gene]] = geuvadis_gene_expression.loc[list_of_genes[gene],YRI_individual[individual]]\n",
        "    predixcan_YRI.at[YRI_individual[individual],list_of_genes[gene]] = predixcan_gene_expression.loc[list_of_genes[gene],YRI_individual[individual]]"
      ]
    },
    {
      "cell_type": "code",
      "execution_count": null,
      "metadata": {
        "id": "uOmomziBg2rg"
      },
      "outputs": [],
      "source": [
        "GEU_CEU = pd.DataFrame()\n",
        "predixcan_CEU=pd.DataFrame()\n",
        "for gene in range(len(list_of_genes)):\n",
        "  for individual in range(len(CEU_individual)):\n",
        "    GEU_CEU.at[CEU_individual[individual],list_of_genes[gene]] = geuvadis_gene_expression.loc[list_of_genes[gene],CEU_individual[individual]]\n",
        "    predixcan_CEU.at[CEU_individual[individual],list_of_genes[gene]] = predixcan_gene_expression.loc[list_of_genes[gene],CEU_individual[individual]]"
      ]
    },
    {
      "cell_type": "code",
      "source": [
        "GEU_YRI.head(5)"
      ],
      "metadata": {
        "colab": {
          "base_uri": "https://localhost:8080/",
          "height": 299
        },
        "id": "gRqaywKUqopL",
        "outputId": "e3f4552c-a61b-47e7-a42e-42253bf12dd6"
      },
      "execution_count": null,
      "outputs": [
        {
          "output_type": "execute_result",
          "data": {
            "text/plain": [
              "          SERPINB1    KBTBD2       GCDH    ZNF493     MANBA    ZNF586  \\\n",
              "NA19256   9.791212  7.837634  15.698693  1.125063  4.753361  6.190080   \n",
              "NA19092  34.489164  6.127362  14.665804  1.971629  6.457577  5.014550   \n",
              "NA19147  -4.168743  9.733245  13.384094  1.223517  2.458553  7.551621   \n",
              "NA18488  11.082933  8.223825  18.685144  1.916886  3.449440  6.410161   \n",
              "NA19095  25.166157  6.877086  14.970986  1.617424  6.938997  7.420278   \n",
              "\n",
              "              THOC3    ZNF567     PCYT1A      PAPD7  ...      HELB   SLC16A9  \\\n",
              "NA19256   91.987016  3.077060  27.170975  14.221732  ...  1.586814  2.156078   \n",
              "NA19092   86.071693  2.005530  38.667608  11.295984  ...  0.755901  1.141164   \n",
              "NA19147   57.876618  2.256346  32.914278  21.108535  ...  1.572086  0.379945   \n",
              "NA18488   52.997927  2.572001  31.179615  10.991562  ...  1.517408  2.385318   \n",
              "NA19095  133.427986  2.183092  28.174480  12.669440  ...  0.995926  1.683786   \n",
              "\n",
              "            FCRL3       MCM8     MRPL21      FAAH   SLC36A1       PFN2  \\\n",
              "NA19256  0.996026   8.564726  32.794534  0.358433  4.052712  24.817085   \n",
              "NA19092 -0.039470   7.054175  58.960422  0.380480  2.537113   9.704975   \n",
              "NA19147  0.182741   6.521343  39.658103  0.471351  1.943008   9.990020   \n",
              "NA18488  0.234561  10.038289  34.520854  0.193415  3.491097   1.627321   \n",
              "NA19095  0.968605   6.362866  27.868033  0.753211  3.408029   7.372448   \n",
              "\n",
              "             COG3     ICAM5  \n",
              "NA19256  5.722191  0.208485  \n",
              "NA19092  6.109303  0.400644  \n",
              "NA19147  6.054081  0.448320  \n",
              "NA18488  5.443132  0.287154  \n",
              "NA19095  6.282968  0.734226  \n",
              "\n",
              "[5 rows x 100 columns]"
            ],
            "text/html": [
              "\n",
              "  <div id=\"df-7a4f216d-b1ee-4cbc-9c94-590e57e63bd9\">\n",
              "    <div class=\"colab-df-container\">\n",
              "      <div>\n",
              "<style scoped>\n",
              "    .dataframe tbody tr th:only-of-type {\n",
              "        vertical-align: middle;\n",
              "    }\n",
              "\n",
              "    .dataframe tbody tr th {\n",
              "        vertical-align: top;\n",
              "    }\n",
              "\n",
              "    .dataframe thead th {\n",
              "        text-align: right;\n",
              "    }\n",
              "</style>\n",
              "<table border=\"1\" class=\"dataframe\">\n",
              "  <thead>\n",
              "    <tr style=\"text-align: right;\">\n",
              "      <th></th>\n",
              "      <th>SERPINB1</th>\n",
              "      <th>KBTBD2</th>\n",
              "      <th>GCDH</th>\n",
              "      <th>ZNF493</th>\n",
              "      <th>MANBA</th>\n",
              "      <th>ZNF586</th>\n",
              "      <th>THOC3</th>\n",
              "      <th>ZNF567</th>\n",
              "      <th>PCYT1A</th>\n",
              "      <th>PAPD7</th>\n",
              "      <th>...</th>\n",
              "      <th>HELB</th>\n",
              "      <th>SLC16A9</th>\n",
              "      <th>FCRL3</th>\n",
              "      <th>MCM8</th>\n",
              "      <th>MRPL21</th>\n",
              "      <th>FAAH</th>\n",
              "      <th>SLC36A1</th>\n",
              "      <th>PFN2</th>\n",
              "      <th>COG3</th>\n",
              "      <th>ICAM5</th>\n",
              "    </tr>\n",
              "  </thead>\n",
              "  <tbody>\n",
              "    <tr>\n",
              "      <th>NA19256</th>\n",
              "      <td>9.791212</td>\n",
              "      <td>7.837634</td>\n",
              "      <td>15.698693</td>\n",
              "      <td>1.125063</td>\n",
              "      <td>4.753361</td>\n",
              "      <td>6.190080</td>\n",
              "      <td>91.987016</td>\n",
              "      <td>3.077060</td>\n",
              "      <td>27.170975</td>\n",
              "      <td>14.221732</td>\n",
              "      <td>...</td>\n",
              "      <td>1.586814</td>\n",
              "      <td>2.156078</td>\n",
              "      <td>0.996026</td>\n",
              "      <td>8.564726</td>\n",
              "      <td>32.794534</td>\n",
              "      <td>0.358433</td>\n",
              "      <td>4.052712</td>\n",
              "      <td>24.817085</td>\n",
              "      <td>5.722191</td>\n",
              "      <td>0.208485</td>\n",
              "    </tr>\n",
              "    <tr>\n",
              "      <th>NA19092</th>\n",
              "      <td>34.489164</td>\n",
              "      <td>6.127362</td>\n",
              "      <td>14.665804</td>\n",
              "      <td>1.971629</td>\n",
              "      <td>6.457577</td>\n",
              "      <td>5.014550</td>\n",
              "      <td>86.071693</td>\n",
              "      <td>2.005530</td>\n",
              "      <td>38.667608</td>\n",
              "      <td>11.295984</td>\n",
              "      <td>...</td>\n",
              "      <td>0.755901</td>\n",
              "      <td>1.141164</td>\n",
              "      <td>-0.039470</td>\n",
              "      <td>7.054175</td>\n",
              "      <td>58.960422</td>\n",
              "      <td>0.380480</td>\n",
              "      <td>2.537113</td>\n",
              "      <td>9.704975</td>\n",
              "      <td>6.109303</td>\n",
              "      <td>0.400644</td>\n",
              "    </tr>\n",
              "    <tr>\n",
              "      <th>NA19147</th>\n",
              "      <td>-4.168743</td>\n",
              "      <td>9.733245</td>\n",
              "      <td>13.384094</td>\n",
              "      <td>1.223517</td>\n",
              "      <td>2.458553</td>\n",
              "      <td>7.551621</td>\n",
              "      <td>57.876618</td>\n",
              "      <td>2.256346</td>\n",
              "      <td>32.914278</td>\n",
              "      <td>21.108535</td>\n",
              "      <td>...</td>\n",
              "      <td>1.572086</td>\n",
              "      <td>0.379945</td>\n",
              "      <td>0.182741</td>\n",
              "      <td>6.521343</td>\n",
              "      <td>39.658103</td>\n",
              "      <td>0.471351</td>\n",
              "      <td>1.943008</td>\n",
              "      <td>9.990020</td>\n",
              "      <td>6.054081</td>\n",
              "      <td>0.448320</td>\n",
              "    </tr>\n",
              "    <tr>\n",
              "      <th>NA18488</th>\n",
              "      <td>11.082933</td>\n",
              "      <td>8.223825</td>\n",
              "      <td>18.685144</td>\n",
              "      <td>1.916886</td>\n",
              "      <td>3.449440</td>\n",
              "      <td>6.410161</td>\n",
              "      <td>52.997927</td>\n",
              "      <td>2.572001</td>\n",
              "      <td>31.179615</td>\n",
              "      <td>10.991562</td>\n",
              "      <td>...</td>\n",
              "      <td>1.517408</td>\n",
              "      <td>2.385318</td>\n",
              "      <td>0.234561</td>\n",
              "      <td>10.038289</td>\n",
              "      <td>34.520854</td>\n",
              "      <td>0.193415</td>\n",
              "      <td>3.491097</td>\n",
              "      <td>1.627321</td>\n",
              "      <td>5.443132</td>\n",
              "      <td>0.287154</td>\n",
              "    </tr>\n",
              "    <tr>\n",
              "      <th>NA19095</th>\n",
              "      <td>25.166157</td>\n",
              "      <td>6.877086</td>\n",
              "      <td>14.970986</td>\n",
              "      <td>1.617424</td>\n",
              "      <td>6.938997</td>\n",
              "      <td>7.420278</td>\n",
              "      <td>133.427986</td>\n",
              "      <td>2.183092</td>\n",
              "      <td>28.174480</td>\n",
              "      <td>12.669440</td>\n",
              "      <td>...</td>\n",
              "      <td>0.995926</td>\n",
              "      <td>1.683786</td>\n",
              "      <td>0.968605</td>\n",
              "      <td>6.362866</td>\n",
              "      <td>27.868033</td>\n",
              "      <td>0.753211</td>\n",
              "      <td>3.408029</td>\n",
              "      <td>7.372448</td>\n",
              "      <td>6.282968</td>\n",
              "      <td>0.734226</td>\n",
              "    </tr>\n",
              "  </tbody>\n",
              "</table>\n",
              "<p>5 rows × 100 columns</p>\n",
              "</div>\n",
              "      <button class=\"colab-df-convert\" onclick=\"convertToInteractive('df-7a4f216d-b1ee-4cbc-9c94-590e57e63bd9')\"\n",
              "              title=\"Convert this dataframe to an interactive table.\"\n",
              "              style=\"display:none;\">\n",
              "        \n",
              "  <svg xmlns=\"http://www.w3.org/2000/svg\" height=\"24px\"viewBox=\"0 0 24 24\"\n",
              "       width=\"24px\">\n",
              "    <path d=\"M0 0h24v24H0V0z\" fill=\"none\"/>\n",
              "    <path d=\"M18.56 5.44l.94 2.06.94-2.06 2.06-.94-2.06-.94-.94-2.06-.94 2.06-2.06.94zm-11 1L8.5 8.5l.94-2.06 2.06-.94-2.06-.94L8.5 2.5l-.94 2.06-2.06.94zm10 10l.94 2.06.94-2.06 2.06-.94-2.06-.94-.94-2.06-.94 2.06-2.06.94z\"/><path d=\"M17.41 7.96l-1.37-1.37c-.4-.4-.92-.59-1.43-.59-.52 0-1.04.2-1.43.59L10.3 9.45l-7.72 7.72c-.78.78-.78 2.05 0 2.83L4 21.41c.39.39.9.59 1.41.59.51 0 1.02-.2 1.41-.59l7.78-7.78 2.81-2.81c.8-.78.8-2.07 0-2.86zM5.41 20L4 18.59l7.72-7.72 1.47 1.35L5.41 20z\"/>\n",
              "  </svg>\n",
              "      </button>\n",
              "      \n",
              "  <style>\n",
              "    .colab-df-container {\n",
              "      display:flex;\n",
              "      flex-wrap:wrap;\n",
              "      gap: 12px;\n",
              "    }\n",
              "\n",
              "    .colab-df-convert {\n",
              "      background-color: #E8F0FE;\n",
              "      border: none;\n",
              "      border-radius: 50%;\n",
              "      cursor: pointer;\n",
              "      display: none;\n",
              "      fill: #1967D2;\n",
              "      height: 32px;\n",
              "      padding: 0 0 0 0;\n",
              "      width: 32px;\n",
              "    }\n",
              "\n",
              "    .colab-df-convert:hover {\n",
              "      background-color: #E2EBFA;\n",
              "      box-shadow: 0px 1px 2px rgba(60, 64, 67, 0.3), 0px 1px 3px 1px rgba(60, 64, 67, 0.15);\n",
              "      fill: #174EA6;\n",
              "    }\n",
              "\n",
              "    [theme=dark] .colab-df-convert {\n",
              "      background-color: #3B4455;\n",
              "      fill: #D2E3FC;\n",
              "    }\n",
              "\n",
              "    [theme=dark] .colab-df-convert:hover {\n",
              "      background-color: #434B5C;\n",
              "      box-shadow: 0px 1px 3px 1px rgba(0, 0, 0, 0.15);\n",
              "      filter: drop-shadow(0px 1px 2px rgba(0, 0, 0, 0.3));\n",
              "      fill: #FFFFFF;\n",
              "    }\n",
              "  </style>\n",
              "\n",
              "      <script>\n",
              "        const buttonEl =\n",
              "          document.querySelector('#df-7a4f216d-b1ee-4cbc-9c94-590e57e63bd9 button.colab-df-convert');\n",
              "        buttonEl.style.display =\n",
              "          google.colab.kernel.accessAllowed ? 'block' : 'none';\n",
              "\n",
              "        async function convertToInteractive(key) {\n",
              "          const element = document.querySelector('#df-7a4f216d-b1ee-4cbc-9c94-590e57e63bd9');\n",
              "          const dataTable =\n",
              "            await google.colab.kernel.invokeFunction('convertToInteractive',\n",
              "                                                     [key], {});\n",
              "          if (!dataTable) return;\n",
              "\n",
              "          const docLinkHtml = 'Like what you see? Visit the ' +\n",
              "            '<a target=\"_blank\" href=https://colab.research.google.com/notebooks/data_table.ipynb>data table notebook</a>'\n",
              "            + ' to learn more about interactive tables.';\n",
              "          element.innerHTML = '';\n",
              "          dataTable['output_type'] = 'display_data';\n",
              "          await google.colab.output.renderOutput(dataTable, element);\n",
              "          const docLink = document.createElement('div');\n",
              "          docLink.innerHTML = docLinkHtml;\n",
              "          element.appendChild(docLink);\n",
              "        }\n",
              "      </script>\n",
              "    </div>\n",
              "  </div>\n",
              "  "
            ]
          },
          "metadata": {},
          "execution_count": 23
        }
      ]
    },
    {
      "cell_type": "code",
      "source": [
        "predixcan_YRI.head(5)"
      ],
      "metadata": {
        "colab": {
          "base_uri": "https://localhost:8080/",
          "height": 299
        },
        "id": "SUtIv47Fqs8t",
        "outputId": "d0e138c1-b9f3-4fa2-9914-391656f96b81"
      },
      "execution_count": null,
      "outputs": [
        {
          "output_type": "execute_result",
          "data": {
            "text/plain": [
              "         SERPINB1    KBTBD2      GCDH    ZNF493     MANBA    ZNF586     THOC3  \\\n",
              "NA19256  0.517563  0.149966  0.152098 -0.470362  0.026197  0.114678 -0.069345   \n",
              "NA19092  0.382240  0.161530  0.310598  0.206828  0.101979 -0.041924  0.088964   \n",
              "NA19147  0.345758  0.305783  0.131914 -0.254310 -0.004546  0.086188 -0.080407   \n",
              "NA18488  0.383274  0.161530  0.162058 -0.427684 -0.011084  0.030880 -0.036689   \n",
              "NA19095  0.355046  0.255810  0.146262 -0.301050  0.050071  0.035145 -0.007269   \n",
              "\n",
              "           ZNF567    PCYT1A     PAPD7  ...      HELB   SLC16A9     FCRL3  \\\n",
              "NA19256  0.156188  0.327447 -0.037936  ...  0.289275 -0.057591  0.225687   \n",
              "NA19092 -0.007055  0.350953 -0.070091  ...  0.136438 -0.073602  0.223027   \n",
              "NA19147 -0.141273  0.329657 -0.051438  ...  0.250782  0.046120  0.304463   \n",
              "NA18488 -0.126495  0.401172 -0.004744  ...  0.378501  0.064562  0.419511   \n",
              "NA19095  0.106098  0.377437 -0.004710  ...  0.181461 -0.025429  0.243611   \n",
              "\n",
              "             MCM8    MRPL21      FAAH   SLC36A1      PFN2      COG3     ICAM5  \n",
              "NA19256 -0.455287 -0.108749  0.330557 -0.017510 -0.102513  0.094848 -0.027952  \n",
              "NA19092 -0.727978 -0.002529  0.021877 -0.132210 -0.064548  0.115055 -0.051202  \n",
              "NA19147 -0.771286 -0.116040 -0.175999  0.047119 -0.202318  0.086008 -0.063706  \n",
              "NA18488 -0.521923 -0.052163  0.272926  0.078254 -0.265241 -0.008978  0.109965  \n",
              "NA19095 -0.701478 -0.239840 -0.036115 -0.021190 -0.050827  0.115937  0.021766  \n",
              "\n",
              "[5 rows x 100 columns]"
            ],
            "text/html": [
              "\n",
              "  <div id=\"df-31e0c695-0414-4958-a720-31481d45d8eb\">\n",
              "    <div class=\"colab-df-container\">\n",
              "      <div>\n",
              "<style scoped>\n",
              "    .dataframe tbody tr th:only-of-type {\n",
              "        vertical-align: middle;\n",
              "    }\n",
              "\n",
              "    .dataframe tbody tr th {\n",
              "        vertical-align: top;\n",
              "    }\n",
              "\n",
              "    .dataframe thead th {\n",
              "        text-align: right;\n",
              "    }\n",
              "</style>\n",
              "<table border=\"1\" class=\"dataframe\">\n",
              "  <thead>\n",
              "    <tr style=\"text-align: right;\">\n",
              "      <th></th>\n",
              "      <th>SERPINB1</th>\n",
              "      <th>KBTBD2</th>\n",
              "      <th>GCDH</th>\n",
              "      <th>ZNF493</th>\n",
              "      <th>MANBA</th>\n",
              "      <th>ZNF586</th>\n",
              "      <th>THOC3</th>\n",
              "      <th>ZNF567</th>\n",
              "      <th>PCYT1A</th>\n",
              "      <th>PAPD7</th>\n",
              "      <th>...</th>\n",
              "      <th>HELB</th>\n",
              "      <th>SLC16A9</th>\n",
              "      <th>FCRL3</th>\n",
              "      <th>MCM8</th>\n",
              "      <th>MRPL21</th>\n",
              "      <th>FAAH</th>\n",
              "      <th>SLC36A1</th>\n",
              "      <th>PFN2</th>\n",
              "      <th>COG3</th>\n",
              "      <th>ICAM5</th>\n",
              "    </tr>\n",
              "  </thead>\n",
              "  <tbody>\n",
              "    <tr>\n",
              "      <th>NA19256</th>\n",
              "      <td>0.517563</td>\n",
              "      <td>0.149966</td>\n",
              "      <td>0.152098</td>\n",
              "      <td>-0.470362</td>\n",
              "      <td>0.026197</td>\n",
              "      <td>0.114678</td>\n",
              "      <td>-0.069345</td>\n",
              "      <td>0.156188</td>\n",
              "      <td>0.327447</td>\n",
              "      <td>-0.037936</td>\n",
              "      <td>...</td>\n",
              "      <td>0.289275</td>\n",
              "      <td>-0.057591</td>\n",
              "      <td>0.225687</td>\n",
              "      <td>-0.455287</td>\n",
              "      <td>-0.108749</td>\n",
              "      <td>0.330557</td>\n",
              "      <td>-0.017510</td>\n",
              "      <td>-0.102513</td>\n",
              "      <td>0.094848</td>\n",
              "      <td>-0.027952</td>\n",
              "    </tr>\n",
              "    <tr>\n",
              "      <th>NA19092</th>\n",
              "      <td>0.382240</td>\n",
              "      <td>0.161530</td>\n",
              "      <td>0.310598</td>\n",
              "      <td>0.206828</td>\n",
              "      <td>0.101979</td>\n",
              "      <td>-0.041924</td>\n",
              "      <td>0.088964</td>\n",
              "      <td>-0.007055</td>\n",
              "      <td>0.350953</td>\n",
              "      <td>-0.070091</td>\n",
              "      <td>...</td>\n",
              "      <td>0.136438</td>\n",
              "      <td>-0.073602</td>\n",
              "      <td>0.223027</td>\n",
              "      <td>-0.727978</td>\n",
              "      <td>-0.002529</td>\n",
              "      <td>0.021877</td>\n",
              "      <td>-0.132210</td>\n",
              "      <td>-0.064548</td>\n",
              "      <td>0.115055</td>\n",
              "      <td>-0.051202</td>\n",
              "    </tr>\n",
              "    <tr>\n",
              "      <th>NA19147</th>\n",
              "      <td>0.345758</td>\n",
              "      <td>0.305783</td>\n",
              "      <td>0.131914</td>\n",
              "      <td>-0.254310</td>\n",
              "      <td>-0.004546</td>\n",
              "      <td>0.086188</td>\n",
              "      <td>-0.080407</td>\n",
              "      <td>-0.141273</td>\n",
              "      <td>0.329657</td>\n",
              "      <td>-0.051438</td>\n",
              "      <td>...</td>\n",
              "      <td>0.250782</td>\n",
              "      <td>0.046120</td>\n",
              "      <td>0.304463</td>\n",
              "      <td>-0.771286</td>\n",
              "      <td>-0.116040</td>\n",
              "      <td>-0.175999</td>\n",
              "      <td>0.047119</td>\n",
              "      <td>-0.202318</td>\n",
              "      <td>0.086008</td>\n",
              "      <td>-0.063706</td>\n",
              "    </tr>\n",
              "    <tr>\n",
              "      <th>NA18488</th>\n",
              "      <td>0.383274</td>\n",
              "      <td>0.161530</td>\n",
              "      <td>0.162058</td>\n",
              "      <td>-0.427684</td>\n",
              "      <td>-0.011084</td>\n",
              "      <td>0.030880</td>\n",
              "      <td>-0.036689</td>\n",
              "      <td>-0.126495</td>\n",
              "      <td>0.401172</td>\n",
              "      <td>-0.004744</td>\n",
              "      <td>...</td>\n",
              "      <td>0.378501</td>\n",
              "      <td>0.064562</td>\n",
              "      <td>0.419511</td>\n",
              "      <td>-0.521923</td>\n",
              "      <td>-0.052163</td>\n",
              "      <td>0.272926</td>\n",
              "      <td>0.078254</td>\n",
              "      <td>-0.265241</td>\n",
              "      <td>-0.008978</td>\n",
              "      <td>0.109965</td>\n",
              "    </tr>\n",
              "    <tr>\n",
              "      <th>NA19095</th>\n",
              "      <td>0.355046</td>\n",
              "      <td>0.255810</td>\n",
              "      <td>0.146262</td>\n",
              "      <td>-0.301050</td>\n",
              "      <td>0.050071</td>\n",
              "      <td>0.035145</td>\n",
              "      <td>-0.007269</td>\n",
              "      <td>0.106098</td>\n",
              "      <td>0.377437</td>\n",
              "      <td>-0.004710</td>\n",
              "      <td>...</td>\n",
              "      <td>0.181461</td>\n",
              "      <td>-0.025429</td>\n",
              "      <td>0.243611</td>\n",
              "      <td>-0.701478</td>\n",
              "      <td>-0.239840</td>\n",
              "      <td>-0.036115</td>\n",
              "      <td>-0.021190</td>\n",
              "      <td>-0.050827</td>\n",
              "      <td>0.115937</td>\n",
              "      <td>0.021766</td>\n",
              "    </tr>\n",
              "  </tbody>\n",
              "</table>\n",
              "<p>5 rows × 100 columns</p>\n",
              "</div>\n",
              "      <button class=\"colab-df-convert\" onclick=\"convertToInteractive('df-31e0c695-0414-4958-a720-31481d45d8eb')\"\n",
              "              title=\"Convert this dataframe to an interactive table.\"\n",
              "              style=\"display:none;\">\n",
              "        \n",
              "  <svg xmlns=\"http://www.w3.org/2000/svg\" height=\"24px\"viewBox=\"0 0 24 24\"\n",
              "       width=\"24px\">\n",
              "    <path d=\"M0 0h24v24H0V0z\" fill=\"none\"/>\n",
              "    <path d=\"M18.56 5.44l.94 2.06.94-2.06 2.06-.94-2.06-.94-.94-2.06-.94 2.06-2.06.94zm-11 1L8.5 8.5l.94-2.06 2.06-.94-2.06-.94L8.5 2.5l-.94 2.06-2.06.94zm10 10l.94 2.06.94-2.06 2.06-.94-2.06-.94-.94-2.06-.94 2.06-2.06.94z\"/><path d=\"M17.41 7.96l-1.37-1.37c-.4-.4-.92-.59-1.43-.59-.52 0-1.04.2-1.43.59L10.3 9.45l-7.72 7.72c-.78.78-.78 2.05 0 2.83L4 21.41c.39.39.9.59 1.41.59.51 0 1.02-.2 1.41-.59l7.78-7.78 2.81-2.81c.8-.78.8-2.07 0-2.86zM5.41 20L4 18.59l7.72-7.72 1.47 1.35L5.41 20z\"/>\n",
              "  </svg>\n",
              "      </button>\n",
              "      \n",
              "  <style>\n",
              "    .colab-df-container {\n",
              "      display:flex;\n",
              "      flex-wrap:wrap;\n",
              "      gap: 12px;\n",
              "    }\n",
              "\n",
              "    .colab-df-convert {\n",
              "      background-color: #E8F0FE;\n",
              "      border: none;\n",
              "      border-radius: 50%;\n",
              "      cursor: pointer;\n",
              "      display: none;\n",
              "      fill: #1967D2;\n",
              "      height: 32px;\n",
              "      padding: 0 0 0 0;\n",
              "      width: 32px;\n",
              "    }\n",
              "\n",
              "    .colab-df-convert:hover {\n",
              "      background-color: #E2EBFA;\n",
              "      box-shadow: 0px 1px 2px rgba(60, 64, 67, 0.3), 0px 1px 3px 1px rgba(60, 64, 67, 0.15);\n",
              "      fill: #174EA6;\n",
              "    }\n",
              "\n",
              "    [theme=dark] .colab-df-convert {\n",
              "      background-color: #3B4455;\n",
              "      fill: #D2E3FC;\n",
              "    }\n",
              "\n",
              "    [theme=dark] .colab-df-convert:hover {\n",
              "      background-color: #434B5C;\n",
              "      box-shadow: 0px 1px 3px 1px rgba(0, 0, 0, 0.15);\n",
              "      filter: drop-shadow(0px 1px 2px rgba(0, 0, 0, 0.3));\n",
              "      fill: #FFFFFF;\n",
              "    }\n",
              "  </style>\n",
              "\n",
              "      <script>\n",
              "        const buttonEl =\n",
              "          document.querySelector('#df-31e0c695-0414-4958-a720-31481d45d8eb button.colab-df-convert');\n",
              "        buttonEl.style.display =\n",
              "          google.colab.kernel.accessAllowed ? 'block' : 'none';\n",
              "\n",
              "        async function convertToInteractive(key) {\n",
              "          const element = document.querySelector('#df-31e0c695-0414-4958-a720-31481d45d8eb');\n",
              "          const dataTable =\n",
              "            await google.colab.kernel.invokeFunction('convertToInteractive',\n",
              "                                                     [key], {});\n",
              "          if (!dataTable) return;\n",
              "\n",
              "          const docLinkHtml = 'Like what you see? Visit the ' +\n",
              "            '<a target=\"_blank\" href=https://colab.research.google.com/notebooks/data_table.ipynb>data table notebook</a>'\n",
              "            + ' to learn more about interactive tables.';\n",
              "          element.innerHTML = '';\n",
              "          dataTable['output_type'] = 'display_data';\n",
              "          await google.colab.output.renderOutput(dataTable, element);\n",
              "          const docLink = document.createElement('div');\n",
              "          docLink.innerHTML = docLinkHtml;\n",
              "          element.appendChild(docLink);\n",
              "        }\n",
              "      </script>\n",
              "    </div>\n",
              "  </div>\n",
              "  "
            ]
          },
          "metadata": {},
          "execution_count": 24
        }
      ]
    },
    {
      "cell_type": "code",
      "source": [
        "# Making sure we save the file.\n",
        "if not os.path.exists('/content/drive/MyDrive/Capstone_Project_2022/results/Geuvadis_YRI.csv'):\n",
        "  GEU_YRI.to_csv('/content/drive/MyDrive/Capstone_Project_2022/results/Geuvadis_YRI.csv')\n",
        "\n",
        "if not os.path.exists('/content/drive/MyDrive/Capstone_Project_2022/results/predixcan_YRI.csv'):\n",
        "  predixcan_YRI.to_csv('/content/drive/MyDrive/Capstone_Project_2022/results/predixcan_YRI.csv')\n",
        "\n",
        "if not os.path.exists('/content/drive/MyDrive/Capstone_Project_2022/results/Geuvadis_CEU.csv'):\n",
        "  GEU_CEU.to_csv('/content/drive/MyDrive/Capstone_Project_2022/results/Geuvadis_CEU.csv')\n",
        "  \n",
        "if not os.path.exists('/content/drive/MyDrive/Capstone_Project_2022/results/predixcan_CEU.csv'):\n",
        "  predixcan_CEU.to_csv('/content/drive/MyDrive/Capstone_Project_2022/results/predixcan_CEU.csv')"
      ],
      "metadata": {
        "id": "EcBYgJ_AXOhj"
      },
      "execution_count": null,
      "outputs": []
    },
    {
      "cell_type": "markdown",
      "metadata": {
        "id": "qCFjdcvyL0MS"
      },
      "source": [
        "# Define Plotting Functions"
      ]
    },
    {
      "cell_type": "markdown",
      "source": [
        "Now we have everything we want, true observations from Geuvadis, predictions made by Enformer, and predictions made by PredixCan. Let's make some plots!\n",
        "\n",
        "We want to make the following three types of plots:\n",
        "1. Predixcan vs. Geuvadis\n",
        "2. Enformer vs. Geuvadis\n",
        "3. Predixcan vs. Enformer"
      ],
      "metadata": {
        "id": "iIudEqR1DjL1"
      }
    },
    {
      "cell_type": "markdown",
      "metadata": {
        "id": "xhQq4XeDhjvO"
      },
      "source": [
        "### Code for plotting"
      ]
    },
    {
      "cell_type": "markdown",
      "source": [
        "We first define a function to help us plotting."
      ],
      "metadata": {
        "id": "kuUPJ56VOA-a"
      }
    },
    {
      "cell_type": "code",
      "source": [
        "def plot_one_vs_two(interested_gene, interested_individuals, gene_expression_1, expression_1_name:str, gene_expression_2, expression_2_name:str, group_tag:str, color:str):\n",
        "  '''\n",
        "  First two parameters are self-explainatory. The next two pairs of parameters are gene expression and its name. \n",
        "  group_tag is used for the plot, file path, and image generating process. color determines the color of the graph.\n",
        "  \n",
        "  This function will concat the two series, give them proper column names. Then show a plot and return correlation coefficient\n",
        "  '''\n",
        "  # concatenate both geuvadis_expression and predixcan_expression\n",
        "  df = pd.concat([gene_expression_1, gene_expression_2], axis=1)\n",
        "  df.columns=[expression_1_name, expression_2_name]\n",
        "\n",
        "  # path\n",
        "  filepath='/content/drive/MyDrive/Capstone_Project_2022/results/' + expression_1_name + '_vs_' + expression_2_name + '_plot'+'_'+group_tag\n",
        "  if not os.path.exists(filepath):\n",
        "    !mkdir -p $filepath # create a folder to store the following series of plots\n",
        "\n",
        "  # correlation coefficient between the two columns\n",
        "  corr_coef=df[expression_1_name].corr(df[expression_2_name])\n",
        "\n",
        "  # plotting and adding title, label\n",
        "  plot=sns.regplot(x=df[expression_1_name], y=df[expression_2_name], color=color)\n",
        "  plot.set(title='{} vs. {} predictions on {} individuals from {} sample for gene {}'.format(expression_1_name, expression_2_name, len(interested_individuals), group_tag, interested_gene))\n",
        "  \n",
        "  text=\"The corr.coef is: {:.6f}\".format(corr_coef)\n",
        "\n",
        "  fig = plot.get_figure()\n",
        "  # save image\n",
        "  fig.savefig(fname=filepath+\"/\"+expression_1_name+ \"_vs_\" +expression_2_name +'_'+ group_tag+'_'+interested_gene+'.png', bbox_inches='tight')\n",
        "\n",
        "  return corr_coef"
      ],
      "metadata": {
        "id": "sCHfEMA_EfOj"
      },
      "execution_count": null,
      "outputs": []
    },
    {
      "cell_type": "markdown",
      "source": [
        "# Making Plots and Correlation Tables"
      ],
      "metadata": {
        "id": "S2eEMLX2YdtH"
      }
    },
    {
      "cell_type": "markdown",
      "source": [
        "Scripts below generate the desired plots that we want. \n",
        "\n",
        "In case you do not wish to store all the plots, or only want to store some of them. You can modify the plotting function by commenting out the **fig.savefig** line.\n",
        "\n",
        "You can also chose your own range of genes by editing the **list_of_genes** below.\n",
        "\n",
        "Notice the plotting function calculates the pearson correlation everytime and returns that value. We make use of that and store it in a table."
      ],
      "metadata": {
        "id": "7l8lNAw9YiTn"
      }
    },
    {
      "cell_type": "markdown",
      "metadata": {
        "id": "BRafGDPThnlO"
      },
      "source": [
        "### Geuvadis vs PredixCan"
      ]
    },
    {
      "cell_type": "markdown",
      "metadata": {
        "id": "EKc-cs_ohxT_"
      },
      "source": [
        "Geuvadis vs PredixCan on **CEU sample group**\n",
        "\n",
        "\n"
      ]
    },
    {
      "cell_type": "code",
      "execution_count": null,
      "metadata": {
        "id": "m2GBmJxK-oiq",
        "colab": {
          "base_uri": "https://localhost:8080/",
          "height": 654
        },
        "outputId": "c342587f-5950-4d38-a1b6-72a383bfa2a8"
      },
      "outputs": [
        {
          "output_type": "error",
          "ename": "KeyboardInterrupt",
          "evalue": "ignored",
          "traceback": [
            "\u001b[0;31m---------------------------------------------------------------------------\u001b[0m",
            "\u001b[0;31mKeyboardInterrupt\u001b[0m                         Traceback (most recent call last)",
            "\u001b[0;32m<ipython-input-27-0b737860b8c4>\u001b[0m in \u001b[0;36m<module>\u001b[0;34m()\u001b[0m\n\u001b[1;32m      7\u001b[0m   \u001b[0mPC\u001b[0m\u001b[0;34m=\u001b[0m\u001b[0mpredixcan_CEU\u001b[0m\u001b[0;34m[\u001b[0m\u001b[0mlist_of_genes\u001b[0m\u001b[0;34m[\u001b[0m\u001b[0mgene\u001b[0m\u001b[0;34m]\u001b[0m\u001b[0;34m]\u001b[0m \u001b[0;31m#interested gene expression of Predixcan\u001b[0m\u001b[0;34m\u001b[0m\u001b[0;34m\u001b[0m\u001b[0m\n\u001b[1;32m      8\u001b[0m   coef=plot_one_vs_two(interested_gene=list_of_genes[gene], interested_individuals=CEU_individual, gene_expression_1=GC, expression_1_name='Geuvadis', \n\u001b[0;32m----> 9\u001b[0;31m                      gene_expression_2=PC, expression_2_name='Predixcan', group_tag='CEU', color='red')\n\u001b[0m\u001b[1;32m     10\u001b[0m   \u001b[0mGeu_Pre_CEU_coef\u001b[0m\u001b[0;34m.\u001b[0m\u001b[0mloc\u001b[0m\u001b[0;34m[\u001b[0m\u001b[0mlist_of_genes\u001b[0m\u001b[0;34m[\u001b[0m\u001b[0mgene\u001b[0m\u001b[0;34m]\u001b[0m\u001b[0;34m]\u001b[0m \u001b[0;34m=\u001b[0m \u001b[0mcoef\u001b[0m\u001b[0;34m\u001b[0m\u001b[0;34m\u001b[0m\u001b[0m\n",
            "\u001b[0;32m<ipython-input-26-17d4b1d63889>\u001b[0m in \u001b[0;36mplot_one_vs_two\u001b[0;34m(interested_gene, interested_individuals, gene_expression_1, expression_1_name, gene_expression_2, expression_2_name, group_tag, color)\u001b[0m\n\u001b[1;32m     26\u001b[0m   \u001b[0mfig\u001b[0m \u001b[0;34m=\u001b[0m \u001b[0mplot\u001b[0m\u001b[0;34m.\u001b[0m\u001b[0mget_figure\u001b[0m\u001b[0;34m(\u001b[0m\u001b[0;34m)\u001b[0m\u001b[0;34m\u001b[0m\u001b[0;34m\u001b[0m\u001b[0m\n\u001b[1;32m     27\u001b[0m   \u001b[0;31m# save image\u001b[0m\u001b[0;34m\u001b[0m\u001b[0;34m\u001b[0m\u001b[0;34m\u001b[0m\u001b[0m\n\u001b[0;32m---> 28\u001b[0;31m   \u001b[0mfig\u001b[0m\u001b[0;34m.\u001b[0m\u001b[0msavefig\u001b[0m\u001b[0;34m(\u001b[0m\u001b[0mfname\u001b[0m\u001b[0;34m=\u001b[0m\u001b[0mfilepath\u001b[0m\u001b[0;34m+\u001b[0m\u001b[0;34m\"/\"\u001b[0m\u001b[0;34m+\u001b[0m\u001b[0mexpression_1_name\u001b[0m\u001b[0;34m+\u001b[0m \u001b[0;34m\"_vs_\"\u001b[0m \u001b[0;34m+\u001b[0m\u001b[0mexpression_2_name\u001b[0m \u001b[0;34m+\u001b[0m\u001b[0;34m'_'\u001b[0m\u001b[0;34m+\u001b[0m \u001b[0mgroup_tag\u001b[0m\u001b[0;34m+\u001b[0m\u001b[0;34m'_'\u001b[0m\u001b[0;34m+\u001b[0m\u001b[0minterested_gene\u001b[0m\u001b[0;34m+\u001b[0m\u001b[0;34m'.png'\u001b[0m\u001b[0;34m,\u001b[0m \u001b[0mbbox_inches\u001b[0m\u001b[0;34m=\u001b[0m\u001b[0;34m'tight'\u001b[0m\u001b[0;34m)\u001b[0m\u001b[0;34m\u001b[0m\u001b[0;34m\u001b[0m\u001b[0m\n\u001b[0m\u001b[1;32m     29\u001b[0m \u001b[0;34m\u001b[0m\u001b[0m\n\u001b[1;32m     30\u001b[0m   \u001b[0;32mreturn\u001b[0m \u001b[0mcorr_coef\u001b[0m\u001b[0;34m\u001b[0m\u001b[0;34m\u001b[0m\u001b[0m\n",
            "\u001b[0;32m/usr/local/lib/python3.7/dist-packages/matplotlib/figure.py\u001b[0m in \u001b[0;36msavefig\u001b[0;34m(self, fname, transparent, **kwargs)\u001b[0m\n\u001b[1;32m   2201\u001b[0m             \u001b[0mself\u001b[0m\u001b[0;34m.\u001b[0m\u001b[0mpatch\u001b[0m\u001b[0;34m.\u001b[0m\u001b[0mset_visible\u001b[0m\u001b[0;34m(\u001b[0m\u001b[0mframeon\u001b[0m\u001b[0;34m)\u001b[0m\u001b[0;34m\u001b[0m\u001b[0;34m\u001b[0m\u001b[0m\n\u001b[1;32m   2202\u001b[0m \u001b[0;34m\u001b[0m\u001b[0m\n\u001b[0;32m-> 2203\u001b[0;31m         \u001b[0mself\u001b[0m\u001b[0;34m.\u001b[0m\u001b[0mcanvas\u001b[0m\u001b[0;34m.\u001b[0m\u001b[0mprint_figure\u001b[0m\u001b[0;34m(\u001b[0m\u001b[0mfname\u001b[0m\u001b[0;34m,\u001b[0m \u001b[0;34m**\u001b[0m\u001b[0mkwargs\u001b[0m\u001b[0;34m)\u001b[0m\u001b[0;34m\u001b[0m\u001b[0;34m\u001b[0m\u001b[0m\n\u001b[0m\u001b[1;32m   2204\u001b[0m \u001b[0;34m\u001b[0m\u001b[0m\n\u001b[1;32m   2205\u001b[0m         \u001b[0;32mif\u001b[0m \u001b[0mframeon\u001b[0m\u001b[0;34m:\u001b[0m\u001b[0;34m\u001b[0m\u001b[0;34m\u001b[0m\u001b[0m\n",
            "\u001b[0;32m/usr/local/lib/python3.7/dist-packages/matplotlib/backend_bases.py\u001b[0m in \u001b[0;36mprint_figure\u001b[0;34m(self, filename, dpi, facecolor, edgecolor, orientation, format, bbox_inches, **kwargs)\u001b[0m\n\u001b[1;32m   2101\u001b[0m                     \u001b[0mbbox_artists\u001b[0m \u001b[0;34m=\u001b[0m \u001b[0mkwargs\u001b[0m\u001b[0;34m.\u001b[0m\u001b[0mpop\u001b[0m\u001b[0;34m(\u001b[0m\u001b[0;34m\"bbox_extra_artists\"\u001b[0m\u001b[0;34m,\u001b[0m \u001b[0;32mNone\u001b[0m\u001b[0;34m)\u001b[0m\u001b[0;34m\u001b[0m\u001b[0;34m\u001b[0m\u001b[0m\n\u001b[1;32m   2102\u001b[0m                     bbox_inches = self.figure.get_tightbbox(renderer,\n\u001b[0;32m-> 2103\u001b[0;31m                             bbox_extra_artists=bbox_artists)\n\u001b[0m\u001b[1;32m   2104\u001b[0m                     \u001b[0mpad\u001b[0m \u001b[0;34m=\u001b[0m \u001b[0mkwargs\u001b[0m\u001b[0;34m.\u001b[0m\u001b[0mpop\u001b[0m\u001b[0;34m(\u001b[0m\u001b[0;34m\"pad_inches\"\u001b[0m\u001b[0;34m,\u001b[0m \u001b[0;32mNone\u001b[0m\u001b[0;34m)\u001b[0m\u001b[0;34m\u001b[0m\u001b[0;34m\u001b[0m\u001b[0m\n\u001b[1;32m   2105\u001b[0m                     \u001b[0;32mif\u001b[0m \u001b[0mpad\u001b[0m \u001b[0;32mis\u001b[0m \u001b[0;32mNone\u001b[0m\u001b[0;34m:\u001b[0m\u001b[0;34m\u001b[0m\u001b[0;34m\u001b[0m\u001b[0m\n",
            "\u001b[0;32m/usr/local/lib/python3.7/dist-packages/matplotlib/figure.py\u001b[0m in \u001b[0;36mget_tightbbox\u001b[0;34m(self, renderer, bbox_extra_artists)\u001b[0m\n\u001b[1;32m   2397\u001b[0m                     \u001b[0mbbox\u001b[0m \u001b[0;34m=\u001b[0m \u001b[0max\u001b[0m\u001b[0;34m.\u001b[0m\u001b[0mget_tightbbox\u001b[0m\u001b[0;34m(\u001b[0m\u001b[0mrenderer\u001b[0m\u001b[0;34m)\u001b[0m\u001b[0;34m\u001b[0m\u001b[0;34m\u001b[0m\u001b[0m\n\u001b[1;32m   2398\u001b[0m                 \u001b[0mbb\u001b[0m\u001b[0;34m.\u001b[0m\u001b[0mappend\u001b[0m\u001b[0;34m(\u001b[0m\u001b[0mbbox\u001b[0m\u001b[0;34m)\u001b[0m\u001b[0;34m\u001b[0m\u001b[0;34m\u001b[0m\u001b[0m\n\u001b[0;32m-> 2399\u001b[0;31m         bb = [b for b in bb\n\u001b[0m\u001b[1;32m   2400\u001b[0m               if (np.isfinite(b.width) and np.isfinite(b.height)\n\u001b[1;32m   2401\u001b[0m                   and (b.width != 0 or b.height != 0))]\n",
            "\u001b[0;32m/usr/local/lib/python3.7/dist-packages/matplotlib/figure.py\u001b[0m in \u001b[0;36m<listcomp>\u001b[0;34m(.0)\u001b[0m\n\u001b[1;32m   2398\u001b[0m                 \u001b[0mbb\u001b[0m\u001b[0;34m.\u001b[0m\u001b[0mappend\u001b[0m\u001b[0;34m(\u001b[0m\u001b[0mbbox\u001b[0m\u001b[0;34m)\u001b[0m\u001b[0;34m\u001b[0m\u001b[0;34m\u001b[0m\u001b[0m\n\u001b[1;32m   2399\u001b[0m         bb = [b for b in bb\n\u001b[0;32m-> 2400\u001b[0;31m               if (np.isfinite(b.width) and np.isfinite(b.height)\n\u001b[0m\u001b[1;32m   2401\u001b[0m                   and (b.width != 0 or b.height != 0))]\n\u001b[1;32m   2402\u001b[0m \u001b[0;34m\u001b[0m\u001b[0m\n",
            "\u001b[0;32m/usr/local/lib/python3.7/dist-packages/matplotlib/transforms.py\u001b[0m in \u001b[0;36mwidth\u001b[0;34m(self)\u001b[0m\n\u001b[1;32m    396\u001b[0m         \u001b[0;34m\"\"\"The (signed) width of the bounding box.\"\"\"\u001b[0m\u001b[0;34m\u001b[0m\u001b[0;34m\u001b[0m\u001b[0m\n\u001b[1;32m    397\u001b[0m         \u001b[0mpoints\u001b[0m \u001b[0;34m=\u001b[0m \u001b[0mself\u001b[0m\u001b[0;34m.\u001b[0m\u001b[0mget_points\u001b[0m\u001b[0;34m(\u001b[0m\u001b[0;34m)\u001b[0m\u001b[0;34m\u001b[0m\u001b[0;34m\u001b[0m\u001b[0m\n\u001b[0;32m--> 398\u001b[0;31m         \u001b[0;32mreturn\u001b[0m \u001b[0mpoints\u001b[0m\u001b[0;34m[\u001b[0m\u001b[0;36m1\u001b[0m\u001b[0;34m,\u001b[0m \u001b[0;36m0\u001b[0m\u001b[0;34m]\u001b[0m \u001b[0;34m-\u001b[0m \u001b[0mpoints\u001b[0m\u001b[0;34m[\u001b[0m\u001b[0;36m0\u001b[0m\u001b[0;34m,\u001b[0m \u001b[0;36m0\u001b[0m\u001b[0;34m]\u001b[0m\u001b[0;34m\u001b[0m\u001b[0;34m\u001b[0m\u001b[0m\n\u001b[0m\u001b[1;32m    399\u001b[0m \u001b[0;34m\u001b[0m\u001b[0m\n\u001b[1;32m    400\u001b[0m     \u001b[0;34m@\u001b[0m\u001b[0mproperty\u001b[0m\u001b[0;34m\u001b[0m\u001b[0;34m\u001b[0m\u001b[0m\n",
            "\u001b[0;31mKeyboardInterrupt\u001b[0m: "
          ]
        },
        {
          "output_type": "display_data",
          "data": {
            "text/plain": [
              "<Figure size 432x288 with 1 Axes>"
            ],
            "image/png": "[encoded data removed]"
          },
          "metadata": {
            "image/png": {
              "width": 542,
              "height": 277
            }
          }
        }
      ],
      "source": [
        "# Create a dataframe to store coef\n",
        "Geu_Pre_CEU_coef=pd.DataFrame(index=list_of_genes, columns=['Correlation Coefficient'])\n",
        "\n",
        "# Generating and storing plots for PrediXcan vs Geuvadis on the CEU sample group, store corr_coef along the way\n",
        "for gene in range(len(list_of_genes)):\n",
        "  GC=GEU_CEU[list_of_genes[gene]] #interested gene expression of Geuvadis\n",
        "  PC=predixcan_CEU[list_of_genes[gene]] #interested gene expression of Predixcan\n",
        "  coef=plot_one_vs_two(interested_gene=list_of_genes[gene], interested_individuals=CEU_individual, gene_expression_1=GC, expression_1_name='Geuvadis', \n",
        "                     gene_expression_2=PC, expression_2_name='Predixcan', group_tag='CEU', color='red')\n",
        "  Geu_Pre_CEU_coef.loc[list_of_genes[gene]] = coef"
      ]
    },
    {
      "cell_type": "markdown",
      "metadata": {
        "id": "VMtbA9Obh5T6"
      },
      "source": [
        "Geuvadis vs PredixCan on **YRI sample group**"
      ]
    },
    {
      "cell_type": "code",
      "execution_count": null,
      "metadata": {
        "id": "yDUq7LSthsaI"
      },
      "outputs": [],
      "source": [
        "# Create a dataframe to store coef\n",
        "Geu_Pre_YRI_coef=pd.DataFrame(index=list_of_genes, columns=['Correlation Coefficient'])\n",
        "\n",
        "# Generating and storing plots for PrediXcan vs Geuvadis on the YRI sample group, store corr_coef along the way\n",
        "for gene in range(len(list_of_genes)):\n",
        "  GY=GEU_YRI[list_of_genes[gene]]\n",
        "  PY=predixcan_YRI[list_of_genes[gene]]\n",
        "  coef=plot_one_vs_two(interested_gene=list_of_genes[gene], interested_individuals=YRI_individual, gene_expression_1=GY, expression_1_name='Geuvadis', \n",
        "                     gene_expression_2=PY, expression_2_name='Predixcan', group_tag='YRI', color='blue')\n",
        "  Geu_Pre_YRI_coef.loc[list_of_genes[gene]] = coef"
      ]
    },
    {
      "cell_type": "markdown",
      "metadata": {
        "id": "oK4J4sLDisgv"
      },
      "source": [
        "### Enformer vs Geuvadis Plotting\n"
      ]
    },
    {
      "cell_type": "markdown",
      "metadata": {
        "id": "FL3xsQJdi0s6"
      },
      "source": [
        "CEU group"
      ]
    },
    {
      "cell_type": "code",
      "execution_count": null,
      "metadata": {
        "id": "PJHW33zmixFw"
      },
      "outputs": [],
      "source": [
        "# Create a dataframe to store coef\n",
        "Geu_Enf_CEU_coef=pd.DataFrame(index=list_of_genes, columns=['Correlation Coefficient'])\n",
        "\n",
        "# Generating and storing plots for Enformer vs Geuvadis on the CEU sample group, store corr_coef along the way\n",
        "for gene in range(len(list_of_genes)):\n",
        "  GC=GEU_CEU[list_of_genes[gene]]\n",
        "  EC=Enformer_CEU[list_of_genes[gene]]\n",
        "  coef=plot_one_vs_two(interested_gene=list_of_genes[gene], interested_individuals=CEU_individual, gene_expression_1=GC, expression_1_name='Geuvadis', \n",
        "                     gene_expression_2=EC, expression_2_name='Enformer', group_tag='CEU', color='red')\n",
        "  Geu_Enf_CEU_coef.loc[list_of_genes[gene]] = coef"
      ]
    },
    {
      "cell_type": "markdown",
      "metadata": {
        "id": "KOyuFHuQkUXE"
      },
      "source": [
        "**YRI group**"
      ]
    },
    {
      "cell_type": "code",
      "execution_count": null,
      "metadata": {
        "id": "kBtOOoW1kZTq"
      },
      "outputs": [],
      "source": [
        "# Create a dataframe to store coef\n",
        "Geu_Enf_YRI_coef=pd.DataFrame(index=list_of_genes, columns=['Correlation Coefficient'])\n",
        "\n",
        "# Generating and storing plots for Enformer vs Geuvadis on the CEU sample group, store corr_coef along the way\n",
        "for gene in range(len(list_of_genes)):\n",
        "  GY=GEU_YRI[list_of_genes[gene]]\n",
        "  EY=Enformer_YRI[list_of_genes[gene]]\n",
        "  coef=plot_one_vs_two(interested_gene=list_of_genes[gene], interested_individuals=YRI_individual, gene_expression_1=GY, expression_1_name='Geuvadis', \n",
        "                     gene_expression_2=EY, expression_2_name='Enformer', group_tag='YRI', color='blue')\n",
        "  Geu_Enf_YRI_coef.loc[list_of_genes[gene]] = coef"
      ]
    },
    {
      "cell_type": "markdown",
      "metadata": {
        "id": "yl-vC-3tlNZX"
      },
      "source": [
        "### Enformer vs Predixcan"
      ]
    },
    {
      "cell_type": "markdown",
      "metadata": {
        "id": "vGROyIf6nEdL"
      },
      "source": [
        "##### CEU Group"
      ]
    },
    {
      "cell_type": "code",
      "execution_count": null,
      "metadata": {
        "id": "0R47P5yzl3Xs"
      },
      "outputs": [],
      "source": [
        "# Create a dataframe to store coef\n",
        "Enf_Pre_CEU_coef=pd.DataFrame(index=list_of_genes, columns=['Correlation Coefficient'])\n",
        "\n",
        "# Generating and storing plots for Enformer vs Predixcan on the CEU sample group, store corr_coef along the way\n",
        "for gene in range(len(list_of_genes)):\n",
        "  PC=predixcan_CEU[list_of_genes[gene]]\n",
        "  EC=Enformer_CEU[list_of_genes[gene]]\n",
        "  coef=plot_one_vs_two(interested_gene=list_of_genes[gene], interested_individuals=YRI_individual, gene_expression_1=PC, expression_1_name='Predixcan', \n",
        "                     gene_expression_2=EC, expression_2_name='Enformer', group_tag='CEU', color='red')\n",
        "  Enf_Pre_CEU_coef.loc[list_of_genes[gene]] = coef"
      ]
    },
    {
      "cell_type": "markdown",
      "metadata": {
        "id": "xo2ImeCfnKj4"
      },
      "source": [
        "##### YRI Group"
      ]
    },
    {
      "cell_type": "code",
      "execution_count": null,
      "metadata": {
        "id": "txTSZzGQl3Zp"
      },
      "outputs": [],
      "source": [
        "# Create a dataframe to store coef\n",
        "Enf_Pre_YRI_coef=pd.DataFrame(index=list_of_genes, columns=['Correlation Coefficient'])\n",
        "\n",
        "# Generating and storing plots for Enformer vs Geuvadis on the CEU sample group, store corr_coef along the way\n",
        "for gene in range(len(list_of_genes)):\n",
        "  PY=predixcan_YRI[list_of_genes[gene]]\n",
        "  EY=Enformer_YRI[list_of_genes[gene]]\n",
        "  coef=plot_one_vs_two(interested_gene=list_of_genes[gene], interested_individuals=YRI_individual, gene_expression_1=PY, expression_1_name='Predixcan', \n",
        "                     gene_expression_2=EY, expression_2_name='Enformer', group_tag='YRI', color='blue')\n",
        "  Enf_Pre_YRI_coef.loc[list_of_genes[gene]] = coef"
      ]
    },
    {
      "cell_type": "markdown",
      "metadata": {
        "id": "EWwgSW-MVdQZ"
      },
      "source": [
        "## Correlation Tables"
      ]
    },
    {
      "cell_type": "markdown",
      "source": [
        "In the process above we have stored the correlation coefficient everytime when we plot one gene expression measurement against another. But remember out goal is to compare each model's predicting performance on target genes across population. \n",
        "\n"
      ],
      "metadata": {
        "id": "sndVOPRZjR4A"
      }
    },
    {
      "cell_type": "markdown",
      "metadata": {
        "id": "nrgl4ysuC7SE"
      },
      "source": [
        " Thus, our last step of this script is to integrate these tables. We will have two correlation tables for each group of individuals representing their ancestry, CEU for European ancestry and YRI for African ancestry. These two correlation tables. Each row is the pearson correlation of the model's prediction against the Geuvadis observed value on a specefic gene across the sample group."
      ]
    },
    {
      "cell_type": "code",
      "execution_count": null,
      "metadata": {
        "id": "-Uhgtd7flwc-"
      },
      "outputs": [],
      "source": [
        "YRI_corr = pd.concat([Geu_Pre_YRI_coef, Geu_Enf_YRI_coef], axis=1)\n",
        "YRI_corr.columns=['Predixcan','Enformer']\n",
        "\n",
        "CEU_corr = pd.concat([Geu_Pre_CEU_coef, Geu_Enf_CEU_coef], axis=1)\n",
        "CEU_corr.columns=['Predixcan','Enformer']"
      ]
    },
    {
      "cell_type": "markdown",
      "source": [
        "## Add strand information "
      ],
      "metadata": {
        "id": "Z60vknRlULaZ"
      }
    },
    {
      "cell_type": "markdown",
      "source": [
        "We observed there are some funny behavior with Enformer's prediction, that its result cause the corr.coef to **flip the sign**. This is very obvious if you look at the correlation table thoroughly, that sometimes Predixcan and Enformer have relatively same corr.coef except Enformer's has the opposite sign. \n",
        "\n",
        "---\n",
        "\n",
        "Therefore we have decided to add the strand information of the target gene into the table and see if that helps to explain this weird behavior of Enformer's."
      ],
      "metadata": {
        "id": "vmDhB6t3npEi"
      }
    },
    {
      "cell_type": "code",
      "execution_count": null,
      "metadata": {
        "id": "Myou2_kCiNRB"
      },
      "outputs": [],
      "source": [
        "df_full_target_genes = pd.read_csv('/content/drive/MyDrive/Capstone_Project_2022/data/target_gene_info.csv', index_col = 'Unnamed: 0')"
      ]
    },
    {
      "cell_type": "code",
      "source": [
        "if 'strand' in YRI_corr.columns:\n",
        "    print(\"We have strand column already, no need to create another one\")\n",
        "else:\n",
        "    YRI_corr[\"strand\"] = \" \""
      ],
      "metadata": {
        "id": "JkhyheQmo63M"
      },
      "execution_count": null,
      "outputs": []
    },
    {
      "cell_type": "code",
      "source": [
        "if 'strand' in CEU_corr.columns:\n",
        "    print(\"We have strand column already, no need to create another one\")\n",
        "else:\n",
        "    CEU_corr[\"strand\"] = \" \""
      ],
      "metadata": {
        "id": "v4D4SYUXrBfJ"
      },
      "execution_count": null,
      "outputs": []
    },
    {
      "cell_type": "code",
      "source": [
        "for index, row in df_full_target_genes.iterrows():\n",
        "    chr = str(row['chr'])\n",
        "    df = pd.read_table('/content/drive/MyDrive/Capstone_Project_2022/data/tss_by_chr/chr' +str(chr)+ '_tss_by_gene.txt', sep='\\t')\n",
        "    del df['txStart_Sites']\n",
        "    df=df.set_index('genes')\n",
        "    gene = str(row['gene_name'])\n",
        "    df_strand=df.loc[[gene]]\n",
        "    YRI_corr.at[gene,'strand']=df_strand.loc[gene].values\n",
        "    CEU_corr.at[gene,'strand']=df_strand.loc[gene].values"
      ],
      "metadata": {
        "id": "117cHO6ja2XN"
      },
      "execution_count": null,
      "outputs": []
    },
    {
      "cell_type": "code",
      "source": [
        "YRI_corr=pd.read_csv(\"/content/drive/MyDrive/Capstone_Project_2022/results/Pre_Enf_YRI_correlation_table.csv\", index_col='Unnamed: 0')\n",
        "YRI_corr.head(5)"
      ],
      "metadata": {
        "colab": {
          "base_uri": "https://localhost:8080/",
          "height": 206
        },
        "id": "4WcPZVGFiWul",
        "outputId": "13231e9a-d33b-4842-dea4-9f20b1db974b"
      },
      "execution_count": null,
      "outputs": [
        {
          "output_type": "execute_result",
          "data": {
            "text/plain": [
              "          Predixcan  Enformer strand\n",
              "SERPINB1   0.156383 -0.067964  ['-']\n",
              "KBTBD2    -0.147582  0.133400  ['-']\n",
              "GCDH      -0.009475 -0.183083  ['+']\n",
              "ZNF493     0.125548 -0.006718  ['+']\n",
              "MANBA      0.226151  0.297369  ['-']"
            ],
            "text/html": [
              "\n",
              "  <div id=\"df-071ccdab-3c19-4a70-842b-4b839abadfa2\">\n",
              "    <div class=\"colab-df-container\">\n",
              "      <div>\n",
              "<style scoped>\n",
              "    .dataframe tbody tr th:only-of-type {\n",
              "        vertical-align: middle;\n",
              "    }\n",
              "\n",
              "    .dataframe tbody tr th {\n",
              "        vertical-align: top;\n",
              "    }\n",
              "\n",
              "    .dataframe thead th {\n",
              "        text-align: right;\n",
              "    }\n",
              "</style>\n",
              "<table border=\"1\" class=\"dataframe\">\n",
              "  <thead>\n",
              "    <tr style=\"text-align: right;\">\n",
              "      <th></th>\n",
              "      <th>Predixcan</th>\n",
              "      <th>Enformer</th>\n",
              "      <th>strand</th>\n",
              "    </tr>\n",
              "  </thead>\n",
              "  <tbody>\n",
              "    <tr>\n",
              "      <th>SERPINB1</th>\n",
              "      <td>0.156383</td>\n",
              "      <td>-0.067964</td>\n",
              "      <td>['-']</td>\n",
              "    </tr>\n",
              "    <tr>\n",
              "      <th>KBTBD2</th>\n",
              "      <td>-0.147582</td>\n",
              "      <td>0.133400</td>\n",
              "      <td>['-']</td>\n",
              "    </tr>\n",
              "    <tr>\n",
              "      <th>GCDH</th>\n",
              "      <td>-0.009475</td>\n",
              "      <td>-0.183083</td>\n",
              "      <td>['+']</td>\n",
              "    </tr>\n",
              "    <tr>\n",
              "      <th>ZNF493</th>\n",
              "      <td>0.125548</td>\n",
              "      <td>-0.006718</td>\n",
              "      <td>['+']</td>\n",
              "    </tr>\n",
              "    <tr>\n",
              "      <th>MANBA</th>\n",
              "      <td>0.226151</td>\n",
              "      <td>0.297369</td>\n",
              "      <td>['-']</td>\n",
              "    </tr>\n",
              "  </tbody>\n",
              "</table>\n",
              "</div>\n",
              "      <button class=\"colab-df-convert\" onclick=\"convertToInteractive('df-071ccdab-3c19-4a70-842b-4b839abadfa2')\"\n",
              "              title=\"Convert this dataframe to an interactive table.\"\n",
              "              style=\"display:none;\">\n",
              "        \n",
              "  <svg xmlns=\"http://www.w3.org/2000/svg\" height=\"24px\"viewBox=\"0 0 24 24\"\n",
              "       width=\"24px\">\n",
              "    <path d=\"M0 0h24v24H0V0z\" fill=\"none\"/>\n",
              "    <path d=\"M18.56 5.44l.94 2.06.94-2.06 2.06-.94-2.06-.94-.94-2.06-.94 2.06-2.06.94zm-11 1L8.5 8.5l.94-2.06 2.06-.94-2.06-.94L8.5 2.5l-.94 2.06-2.06.94zm10 10l.94 2.06.94-2.06 2.06-.94-2.06-.94-.94-2.06-.94 2.06-2.06.94z\"/><path d=\"M17.41 7.96l-1.37-1.37c-.4-.4-.92-.59-1.43-.59-.52 0-1.04.2-1.43.59L10.3 9.45l-7.72 7.72c-.78.78-.78 2.05 0 2.83L4 21.41c.39.39.9.59 1.41.59.51 0 1.02-.2 1.41-.59l7.78-7.78 2.81-2.81c.8-.78.8-2.07 0-2.86zM5.41 20L4 18.59l7.72-7.72 1.47 1.35L5.41 20z\"/>\n",
              "  </svg>\n",
              "      </button>\n",
              "      \n",
              "  <style>\n",
              "    .colab-df-container {\n",
              "      display:flex;\n",
              "      flex-wrap:wrap;\n",
              "      gap: 12px;\n",
              "    }\n",
              "\n",
              "    .colab-df-convert {\n",
              "      background-color: #E8F0FE;\n",
              "      border: none;\n",
              "      border-radius: 50%;\n",
              "      cursor: pointer;\n",
              "      display: none;\n",
              "      fill: #1967D2;\n",
              "      height: 32px;\n",
              "      padding: 0 0 0 0;\n",
              "      width: 32px;\n",
              "    }\n",
              "\n",
              "    .colab-df-convert:hover {\n",
              "      background-color: #E2EBFA;\n",
              "      box-shadow: 0px 1px 2px rgba(60, 64, 67, 0.3), 0px 1px 3px 1px rgba(60, 64, 67, 0.15);\n",
              "      fill: #174EA6;\n",
              "    }\n",
              "\n",
              "    [theme=dark] .colab-df-convert {\n",
              "      background-color: #3B4455;\n",
              "      fill: #D2E3FC;\n",
              "    }\n",
              "\n",
              "    [theme=dark] .colab-df-convert:hover {\n",
              "      background-color: #434B5C;\n",
              "      box-shadow: 0px 1px 3px 1px rgba(0, 0, 0, 0.15);\n",
              "      filter: drop-shadow(0px 1px 2px rgba(0, 0, 0, 0.3));\n",
              "      fill: #FFFFFF;\n",
              "    }\n",
              "  </style>\n",
              "\n",
              "      <script>\n",
              "        const buttonEl =\n",
              "          document.querySelector('#df-071ccdab-3c19-4a70-842b-4b839abadfa2 button.colab-df-convert');\n",
              "        buttonEl.style.display =\n",
              "          google.colab.kernel.accessAllowed ? 'block' : 'none';\n",
              "\n",
              "        async function convertToInteractive(key) {\n",
              "          const element = document.querySelector('#df-071ccdab-3c19-4a70-842b-4b839abadfa2');\n",
              "          const dataTable =\n",
              "            await google.colab.kernel.invokeFunction('convertToInteractive',\n",
              "                                                     [key], {});\n",
              "          if (!dataTable) return;\n",
              "\n",
              "          const docLinkHtml = 'Like what you see? Visit the ' +\n",
              "            '<a target=\"_blank\" href=https://colab.research.google.com/notebooks/data_table.ipynb>data table notebook</a>'\n",
              "            + ' to learn more about interactive tables.';\n",
              "          element.innerHTML = '';\n",
              "          dataTable['output_type'] = 'display_data';\n",
              "          await google.colab.output.renderOutput(dataTable, element);\n",
              "          const docLink = document.createElement('div');\n",
              "          docLink.innerHTML = docLinkHtml;\n",
              "          element.appendChild(docLink);\n",
              "        }\n",
              "      </script>\n",
              "    </div>\n",
              "  </div>\n",
              "  "
            ]
          },
          "metadata": {},
          "execution_count": 30
        }
      ]
    },
    {
      "cell_type": "code",
      "source": [
        "CEU_corr.head(3)"
      ],
      "metadata": {
        "colab": {
          "base_uri": "https://localhost:8080/",
          "height": 143
        },
        "id": "IRKOCQDQk4W3",
        "outputId": "8f6eaa33-6792-4c52-8c24-f8919fd546f0"
      },
      "execution_count": null,
      "outputs": [
        {
          "output_type": "execute_result",
          "data": {
            "text/plain": [
              "         Predixcan  Enformer strand\n",
              "SERPINB1  0.484646 -0.133755    [-]\n",
              "KBTBD2    0.148262 -0.140681    [-]\n",
              "GCDH      0.217796  0.197588    [+]"
            ],
            "text/html": [
              "\n",
              "  <div id=\"df-a2621417-eedd-4263-937c-65f7fe7f5438\">\n",
              "    <div class=\"colab-df-container\">\n",
              "      <div>\n",
              "<style scoped>\n",
              "    .dataframe tbody tr th:only-of-type {\n",
              "        vertical-align: middle;\n",
              "    }\n",
              "\n",
              "    .dataframe tbody tr th {\n",
              "        vertical-align: top;\n",
              "    }\n",
              "\n",
              "    .dataframe thead th {\n",
              "        text-align: right;\n",
              "    }\n",
              "</style>\n",
              "<table border=\"1\" class=\"dataframe\">\n",
              "  <thead>\n",
              "    <tr style=\"text-align: right;\">\n",
              "      <th></th>\n",
              "      <th>Predixcan</th>\n",
              "      <th>Enformer</th>\n",
              "      <th>strand</th>\n",
              "    </tr>\n",
              "  </thead>\n",
              "  <tbody>\n",
              "    <tr>\n",
              "      <th>SERPINB1</th>\n",
              "      <td>0.484646</td>\n",
              "      <td>-0.133755</td>\n",
              "      <td>[-]</td>\n",
              "    </tr>\n",
              "    <tr>\n",
              "      <th>KBTBD2</th>\n",
              "      <td>0.148262</td>\n",
              "      <td>-0.140681</td>\n",
              "      <td>[-]</td>\n",
              "    </tr>\n",
              "    <tr>\n",
              "      <th>GCDH</th>\n",
              "      <td>0.217796</td>\n",
              "      <td>0.197588</td>\n",
              "      <td>[+]</td>\n",
              "    </tr>\n",
              "  </tbody>\n",
              "</table>\n",
              "</div>\n",
              "      <button class=\"colab-df-convert\" onclick=\"convertToInteractive('df-a2621417-eedd-4263-937c-65f7fe7f5438')\"\n",
              "              title=\"Convert this dataframe to an interactive table.\"\n",
              "              style=\"display:none;\">\n",
              "        \n",
              "  <svg xmlns=\"http://www.w3.org/2000/svg\" height=\"24px\"viewBox=\"0 0 24 24\"\n",
              "       width=\"24px\">\n",
              "    <path d=\"M0 0h24v24H0V0z\" fill=\"none\"/>\n",
              "    <path d=\"M18.56 5.44l.94 2.06.94-2.06 2.06-.94-2.06-.94-.94-2.06-.94 2.06-2.06.94zm-11 1L8.5 8.5l.94-2.06 2.06-.94-2.06-.94L8.5 2.5l-.94 2.06-2.06.94zm10 10l.94 2.06.94-2.06 2.06-.94-2.06-.94-.94-2.06-.94 2.06-2.06.94z\"/><path d=\"M17.41 7.96l-1.37-1.37c-.4-.4-.92-.59-1.43-.59-.52 0-1.04.2-1.43.59L10.3 9.45l-7.72 7.72c-.78.78-.78 2.05 0 2.83L4 21.41c.39.39.9.59 1.41.59.51 0 1.02-.2 1.41-.59l7.78-7.78 2.81-2.81c.8-.78.8-2.07 0-2.86zM5.41 20L4 18.59l7.72-7.72 1.47 1.35L5.41 20z\"/>\n",
              "  </svg>\n",
              "      </button>\n",
              "      \n",
              "  <style>\n",
              "    .colab-df-container {\n",
              "      display:flex;\n",
              "      flex-wrap:wrap;\n",
              "      gap: 12px;\n",
              "    }\n",
              "\n",
              "    .colab-df-convert {\n",
              "      background-color: #E8F0FE;\n",
              "      border: none;\n",
              "      border-radius: 50%;\n",
              "      cursor: pointer;\n",
              "      display: none;\n",
              "      fill: #1967D2;\n",
              "      height: 32px;\n",
              "      padding: 0 0 0 0;\n",
              "      width: 32px;\n",
              "    }\n",
              "\n",
              "    .colab-df-convert:hover {\n",
              "      background-color: #E2EBFA;\n",
              "      box-shadow: 0px 1px 2px rgba(60, 64, 67, 0.3), 0px 1px 3px 1px rgba(60, 64, 67, 0.15);\n",
              "      fill: #174EA6;\n",
              "    }\n",
              "\n",
              "    [theme=dark] .colab-df-convert {\n",
              "      background-color: #3B4455;\n",
              "      fill: #D2E3FC;\n",
              "    }\n",
              "\n",
              "    [theme=dark] .colab-df-convert:hover {\n",
              "      background-color: #434B5C;\n",
              "      box-shadow: 0px 1px 3px 1px rgba(0, 0, 0, 0.15);\n",
              "      filter: drop-shadow(0px 1px 2px rgba(0, 0, 0, 0.3));\n",
              "      fill: #FFFFFF;\n",
              "    }\n",
              "  </style>\n",
              "\n",
              "      <script>\n",
              "        const buttonEl =\n",
              "          document.querySelector('#df-a2621417-eedd-4263-937c-65f7fe7f5438 button.colab-df-convert');\n",
              "        buttonEl.style.display =\n",
              "          google.colab.kernel.accessAllowed ? 'block' : 'none';\n",
              "\n",
              "        async function convertToInteractive(key) {\n",
              "          const element = document.querySelector('#df-a2621417-eedd-4263-937c-65f7fe7f5438');\n",
              "          const dataTable =\n",
              "            await google.colab.kernel.invokeFunction('convertToInteractive',\n",
              "                                                     [key], {});\n",
              "          if (!dataTable) return;\n",
              "\n",
              "          const docLinkHtml = 'Like what you see? Visit the ' +\n",
              "            '<a target=\"_blank\" href=https://colab.research.google.com/notebooks/data_table.ipynb>data table notebook</a>'\n",
              "            + ' to learn more about interactive tables.';\n",
              "          element.innerHTML = '';\n",
              "          dataTable['output_type'] = 'display_data';\n",
              "          await google.colab.output.renderOutput(dataTable, element);\n",
              "          const docLink = document.createElement('div');\n",
              "          docLink.innerHTML = docLinkHtml;\n",
              "          element.appendChild(docLink);\n",
              "        }\n",
              "      </script>\n",
              "    </div>\n",
              "  </div>\n",
              "  "
            ]
          },
          "metadata": {},
          "execution_count": 27
        }
      ]
    },
    {
      "cell_type": "code",
      "source": [
        "# Store the results if we have not yet\n",
        "if not os.path.exists('/content/drive/MyDrive/Capstone_Project_2022/results/Pre_Enf_YRI.csv'):\n",
        "  YRI_corr.to_csv(\"/content/drive/MyDrive/Capstone_Project_2022/results/Pre_Enf_YRI_correlation_table.csv\")\n",
        "if not os.path.exists('/content/drive/MyDrive/Capstone_Project_2022/results/Pre_Enf_CEU.csv'):\n",
        "  CEU_corr.to_csv(\"/content/drive/MyDrive/Capstone_Project_2022/results/Pre_Enf_CEU_correlation_table.csv\")"
      ],
      "metadata": {
        "id": "HyNSqwaHlL8T"
      },
      "execution_count": null,
      "outputs": []
    },
    {
      "cell_type": "markdown",
      "source": [
        "**Now we are ready to move on to the next and the final part of this project: Analysis!** "
      ],
      "metadata": {
        "id": "vQHWxcTqrOcs"
      }
    }
  ]
}